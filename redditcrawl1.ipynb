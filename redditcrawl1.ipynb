{
 "cells": [
  {
   "cell_type": "code",
   "execution_count": 2,
   "id": "e849c58a",
   "metadata": {},
   "outputs": [
    {
     "name": "stdout",
     "output_type": "stream",
     "text": [
      "Requirement already satisfied: pandas in e:\\university\\fourth_year\\dataprocessing\\.venv\\lib\\site-packages (2.2.3)\n",
      "Requirement already satisfied: praw in e:\\university\\fourth_year\\dataprocessing\\.venv\\lib\\site-packages (7.8.1)\n",
      "Requirement already satisfied: numpy>=1.26.0 in e:\\university\\fourth_year\\dataprocessing\\.venv\\lib\\site-packages (from pandas) (2.2.5)\n",
      "Requirement already satisfied: python-dateutil>=2.8.2 in e:\\university\\fourth_year\\dataprocessing\\.venv\\lib\\site-packages (from pandas) (2.9.0.post0)\n",
      "Requirement already satisfied: pytz>=2020.1 in e:\\university\\fourth_year\\dataprocessing\\.venv\\lib\\site-packages (from pandas) (2025.2)\n",
      "Requirement already satisfied: tzdata>=2022.7 in e:\\university\\fourth_year\\dataprocessing\\.venv\\lib\\site-packages (from pandas) (2025.2)\n",
      "Requirement already satisfied: prawcore<3,>=2.4 in e:\\university\\fourth_year\\dataprocessing\\.venv\\lib\\site-packages (from praw) (2.4.0)\n",
      "Requirement already satisfied: update_checker>=0.18 in e:\\university\\fourth_year\\dataprocessing\\.venv\\lib\\site-packages (from praw) (0.18.0)\n",
      "Requirement already satisfied: websocket-client>=0.54.0 in e:\\university\\fourth_year\\dataprocessing\\.venv\\lib\\site-packages (from praw) (1.8.0)\n",
      "Requirement already satisfied: requests<3.0,>=2.6.0 in e:\\university\\fourth_year\\dataprocessing\\.venv\\lib\\site-packages (from prawcore<3,>=2.4->praw) (2.32.3)\n",
      "Requirement already satisfied: charset-normalizer<4,>=2 in e:\\university\\fourth_year\\dataprocessing\\.venv\\lib\\site-packages (from requests<3.0,>=2.6.0->prawcore<3,>=2.4->praw) (3.4.2)\n",
      "Requirement already satisfied: idna<4,>=2.5 in e:\\university\\fourth_year\\dataprocessing\\.venv\\lib\\site-packages (from requests<3.0,>=2.6.0->prawcore<3,>=2.4->praw) (3.10)\n",
      "Requirement already satisfied: urllib3<3,>=1.21.1 in e:\\university\\fourth_year\\dataprocessing\\.venv\\lib\\site-packages (from requests<3.0,>=2.6.0->prawcore<3,>=2.4->praw) (2.4.0)\n",
      "Requirement already satisfied: certifi>=2017.4.17 in e:\\university\\fourth_year\\dataprocessing\\.venv\\lib\\site-packages (from requests<3.0,>=2.6.0->prawcore<3,>=2.4->praw) (2025.4.26)\n",
      "Requirement already satisfied: six>=1.5 in e:\\university\\fourth_year\\dataprocessing\\.venv\\lib\\site-packages (from python-dateutil>=2.8.2->pandas) (1.17.0)\n"
     ]
    }
   ],
   "source": [
    "!pip install pandas praw"
   ]
  },
  {
   "cell_type": "code",
   "execution_count": 28,
   "id": "2148aa03",
   "metadata": {},
   "outputs": [],
   "source": [
    "import praw\n",
    "import pandas as pd"
   ]
  },
  {
   "cell_type": "code",
   "execution_count": null,
   "id": "3b7c32d6",
   "metadata": {},
   "outputs": [],
   "source": [
    "reddit = praw.Reddit(\n",
    "    user_agent = True, \n",
    "    client_id = \"\",\n",
    "    client_secret = \"\",\n",
    ")"
   ]
  },
  {
   "cell_type": "code",
   "execution_count": 49,
   "id": "cffb18e1",
   "metadata": {},
   "outputs": [],
   "source": [
    "url =\"https://www.reddit.com/r/AskReddit/comments/1khm908/whats_something_people_constantly_believe_or/\""
   ]
  },
  {
   "cell_type": "code",
   "execution_count": null,
   "id": "4e6688f3",
   "metadata": {},
   "outputs": [
    {
     "name": "stdout",
     "output_type": "stream",
     "text": [
      "What’s something people constantly believe or repeat that you’re tired of hearing?\n",
      "108\n"
     ]
    }
   ],
   "source": [
    "posts = reddit.submission(url=url)\n",
    "#posts.comments.replace_more(limit=None) # để lấy tất cả comment con\n",
    "print(posts.title)\n",
    "print(len(posts.comments))"
   ]
  },
  {
   "cell_type": "code",
   "execution_count": 56,
   "id": "754d93a3",
   "metadata": {},
   "outputs": [
    {
     "name": "stdout",
     "output_type": "stream",
     "text": [
      "['Cracking knuckles gives you arthritis', 'That anything besides the liver, kidneys or pancreas can “remove toxins” from your body', '\"It will happen if it\\'s meant to be\"', '“We’re all in this together”.', '“God doesn’t give you more than you can handle.” Even when I believed in god I knew it was bullshit.', \"That Neanderthals were stupid. They had a larger brain and were capable of making tools and weapons, and it's an absolute certain probability they had language too. They had burial customs (at least from what evidence has been found), jewelry, decorations, and art. They were so genetically similar to us that you could mate with them and have children. \\nThere is also evidence they cared for their injured and disabled- one of their skeletons was found with debilitating injuries that he had acquired earlier in his life, and they believe he lived to his mid forties. He was missing an arm and was probably blind in one eye from a traumatic wound to his skull- and yet clearly he was cared for. This is not the result of a species that does not have intelligence.\", '\"Covid isn\\'t real! The hospitals are empty\" \\n\\nAs a doctor who took care of covid patients in the height of the pandemic, scared for my life because I was watching people die and needed to intubate people not knowing if I was going to pick up something. Nah, it was very obvious from the intubated patients we stuck into our auditorium that this wasn\\'t just a small case of the flu.', \"Let go. It was years ago. Especially said to those talking about abuse years after. It wasn't years ago to me. These people have no idea what it's like to live with those memories. How it affected you even years after it happened. Emotional abuse specifically. People dismiss it. Like it doesn't matter. No one gives a shit when you scrape up the confidence to tell them.  \\nEmotional abuse is never taken seriously. Like physical abuse. But the effects could be worse than physical abuse. \\n\\nI don't get it. It angers me. It feels dismissive to actual victims of abuse.\", '“Everything happens for a reason.”  \\n Fuck. Away. Off.', '\"Oh, you\\'ll change.\"\\n\\n\\nStill not interested in a relationship or wanting kids.', 'Just eat better and you will cure your Diabetes….I‘m a Type1..no magical tea,concoction,diet, or crazy juju is going to make it better…', \"Karma - it's not real. Stuff just happens. Bad people sometimes do well and good people sometimes have an awful time. But theres no rhyme or reason to it.\", '\"I\\'m just being honest. \"\\n\\n\\nPeople really love to say this after being a rude asshole, like they think honesty and manners are mutually exclusive.\\xa0\\n\\n\\nThen there\\'s its close cousin, the equally shitty \"It was just a joke. \"\\n\\n\\nDo I look like I\\'m laughing at your joke, Brad? DO I LOOK LIKE I\\'M FUCKING LAUGHING?', 'Not to be rude... Then act like they forget they just said that', 'When they end an inflammatory comment on a post with, \"...just my opinion.\" Like that makes them immune to any retaliation.', 'Anyone can become a billionaire', 'Honesty is the best policy \\nThats js bs', 'Everything happens for a reason. Sometimes bad stuff just happens, no cosmic lesson needed.', \"Your dog is not trying to dominate you. Even wolves don't follow that alpha bullshit behavior. \\n\\nThe idea is based on a flawed study, and the researcher (L. David Mech) has since tried to correct the misinformation, but dominance theory makes money. Humans just love to be bullies.\", '\"Everything happens for a reason\"\\n\\nNo, sometimes things just happen. And sometimes those things just suck.', 'Being out in the cold air will give you a cold', '\"He\\'s still your father\", whenever I talk about how my mother and I never see him again, due to a divorce. \\n\\nThey never knew about the attempted murder he did to my mother. Broke the car clutch(the mechanic said this was abnormal asf), tried to poison her(her bloody coughs suddenly stopped when she told him that the police would be suspicious if she died this way), hell even brought home a huge blue plastic barrel(for no reason apparently, but probably to store chopped body parts). His family NEVER treated my mother right. \\n\\nThey never knew how manipulative he was. They never knew how evil he was. They\\'ve lived a life of comfort, of a father/husband that acted like one. They never knew of someone who would do such things to their family. Hell even mafias care for their family. Him? He only ever saw my mother as a personal bank account, nothing more. \\n\\nThat\\'s why I just say that he\\'s dead now and that we\\'ve lost contact with his family. It makes people not question anything. It\\'s easier to just say that he died.', '“Good vibes only.” Life’s not always sunshine and rainbows—sometimes you need space for real emotions too.', '“With all due respect” which usually means what’s coming is downright insulting', 'The last presidential election was “a mandate.”\\xa0', '“Im here for you”', 'Everyone’s a little autistic. \\n\\nNo they aren’t. That’s not how that works.', 'That you’re going to catch a cold being out in the rain.. no, that would be hypothermia. 🙄\\nNot happening because it’s raining and I’m not wearing a jacket.', 'That the \"Sodom and Gomorrah\" story is about gay people. It has zero to do with homosexuality.', 'Thoughts and prayers. Yeah, fuck that.', \"face your fear it's scarier if you don't even try \\ni mean like what!!? you want me to jump into a nest of vipers to face my 'fear'\", 'When something good happens to you it’s because God intervened. I’m a Christian but not even I believe God would intervene with my boring life but would allow 9/11 to happen.', 'That men and women cannot be friends.', 'A duck\\'s quack really DOES echo. I grew up on a lake and heard it every fkn day. Stupidest internet \"legend\" ever.', '\"Sleep when the baby sleeps\"', '\"No offense\" meaning they find it easier to say \"No offense\" than to simply not be offensive.', '\"everything happens for a reason\"\\n\\nOk, tell me the reson that my wife died at 38 yrs old.', \"That being rich means you're smart\", '- detoxing is important\\nNo. Your body does that automatically, thanks to the lover and kidneys as well as urethral pathways. \\n\\n- everybody needs supplements to add, everybody has deficiencies.\\nFirst statement is wrong entirely, the second one partially. Nobody has the \"right\" amount of nutrients, vitamins and what have you all of the times. That\\'s why we need to eat properly \\n\\n- Just do more sport, you\\'re still young.\\nThis comes from doctors. Especially towards their patients younger than 70. \\nTrue, I need to do more sport, I know that, but losing sensory of a leg is not a sign of that. Diabetes or spinal disc herniation have that symptom. Same for backpain - my last two hard cases have been a kidney inflammation. Not a lack of proper back muscle.', '\"blood is thicker than water\" in relation to family. The whole quote is actually nothing like that. And yeah, no. Family will be the first second and third to stab you in the back then the front and then throw you under the bus. That\\'s fine, do what you gotta do. But don\\'t expect me to be a doormat about it.\\xa0', 'I am doing my best, while barely trying.', '“Follow your heart” your desires can lead you to do very bad things! “Following your heart” is just saying “do what you feel compelled to do” and since nobody is obviously perfect, they are going to be compelled to do bad things! We all are! Don’t follow your heart, follow your soul.', \"That the pyramids are a great mystery.\\n\\nIt is a myth that we don't know how the pyramids were built. There are people whose entire careers are devoted to the study of this – historians, archeologists, and Egyptologists.\\n\\nThe pyramids were built using limestone blocks (local) and granite (imported from Aswan). They used copper chisels, dolerite pounding stones, levers, wooden sleds, and ropes. Workers dragged stones on sleds over wet sand, reducing friction. They left behind diagrams of this.\\n\\nYes, they were heavy. Each block weighs on average 2.5 tons, and some are much heavier. Still, it is not a mystery how they were carved and carried.\\n\\nThe only thing we aren't sure of is what sort of ramp they used at the construction site. We know they used a ramp, but we don't know if it was straight or if it zip-zagged. That's it. That is the only mystery, and it's not even a real mystery because there's evidence for both.\\n\\nAlso, they were not built by slaves. The laborers were well-fed seasonal workers, and many were conscripted farmers during the Nile’s flooding season when farming wasn’t possible.\", 'That Fox News went to court and argued \"nobody believes Tucker Carlson/Nobody takes Tucker Carlson seriously,\" the Court accepted this argument, and granted a ruling in favor of Fox. [This is an well-written, accurate, synopsis of what that case was about.](https://globalfreedomofexpression.columbia.edu/cases/karen-mcdougal-v-fox-news-network-llc/) And if you don\\'t have time for that, [this is my even shorter synopsis of the case.](https://www.reddit.com/r/AskALiberal/comments/1k0eahn/comment/mni8nh4/?utm_source=share&utm_medium=web3x&utm_name=web3xcss&utm_term=1&utm_content=share_button)', \"Work hard and you'll be rewarded\", '\"no one wants to work.\"\\n\\neveryone wants to work, but we have bills to pay. we can\\'t be working for $10/hour anymore.', 'That being a sahm is the hardest job in the world', \"When people say weed is harmless or has causes no deaths. Smoking it is carcinogenic, so people have most certainly died through lung cancers. Smoking it also causes heart disease too.\\n\\n\\nThere was a famous case where a woman stabbed her boyfriend over a hundred times, and psychologists and judge generally agreed it was caused to do cannabis induced psychotic episode. That's occuring on a wider scale. The drug has also been linked to a increased chance of developing schizophrenia.\\n\\n\\nThe THC carts have been known to cause lung collapse and popcorn lung.\", 'that everything will be okay in the end', 'transphobia, just so much transphobia, so tired of dealing with that', \"That furries fuck animals. No, they like dressing up as animals & MAYBE fucking each other in said costumes. If anything it's closer to a superhero fetish.\", 'This is the most important election of your lifetime/in a generation.', '\"If he wanted to, he would.\"\\n\\n\\n\"It is what it is.\"\\n\\n\\n\"I\\'m not religious but I\\'m spiritual.\"\\n\\n\\n\"It\\'s just a dog.\"', 'That the three cones in our retinas responsible (in part) for colour vision are called Red, Green, and Blue like on electronic displays. They’re actually called L, M, and S — for long, medium, and short wavelengths — and what’s maddening is that L and M cones don’t neatly map to ‘red’ and ‘green’. Instead, they mostly overlap in the same region of the visible spectrum', \"That the Moriori, not the Maori, are the indigenous peoples of New Zealand, and that the Maori murdered and usurped the Moriori from their rightful place in New Zealand. It's a common misconception pushed by racists who don't like to acknowledge the Maori's place in New Zealand. The Moriori were the first people in Rekohu/Chatham island, and a few Maori tribes did raid and pillage and murder them, but that's a completely different story to what a lot of people seem to believe. Really bothers me.\", '«Everything will be fine, relax» Damn, if I relax, nothing good will come of it for sure!', 'God', 'Emus won The Emu War.  (They did not).\\n\\nHitler was pure evil and not human. (He was a man, and anybody can fall into the same traps).\\n\\nCut a worm in two and it doubles (it dies).\\n\\nGorillas know martial arts.\\n\\nThe Bible says there were pre-flood giants (one of four interpretations).\\n\\nJasher says X about giants and... (It does not, and it is a collection of Midrashes).\\n\\nThe Bible says there were giants in Joshua. (By that logic \"raining cats and dogs\" means they are descending from the clouds).', 'The whole \"Do you know the definition of insanity\" thing', 'Fluoride in the drinking water is bad for you', '\"Everything happens for a reason\"\\n\\nYeah, and those reasons are in the past. That\\'s how causality works. The reason things happen is because of whatever preceded them, not whatever hopefully good thing might come in the future.', \"They are not thinking or talking about you!! Have you never been stuck with the town gossip for an hour while she bitched and moaned about everyone in the town?? And you believe you are the only person she doesn't talk about!!\", 'The entire way people understand “survival of the fittest” as attributed to Darwin (i.e. “fittest” must mean being bigger, faster, stronger or even socially meaner).\\n\\nIn “The Origin of Species”, Darwin concluded that the species most likely to survive would always come down to the species that adapts the best to its environment. “Fittest” refers to adaptability, not brute or even physical strength. An important call-out on this is that key component of species-level adaptability is genetic diversity. \\n\\nIf people understood this from the start, perhaps “Social Darwinism” would be less about looking down on others perceived as “weak” and more about understanding that one of the key ways our own species evolved was through social cooperation. \\n\\nIf you’re intent on being a dick, at least keep Darwin’s name out of your mouth.', 'That vaccines cause autism/are unsafe. \\xa0The diseases they protect us from used to kill people.\\xa0', 'That immigration is the issue, and not the elites tax avoidance. \\n\\nFuck the ReformUK party.', 'That there is a God or afterlife. There is no hard evidence to support either of those beliefs and saying it makes you look irrational.', 'I have pet snakes and if I hear the whole \"be careful, I heard about this person who\\'s python would sleep next to them because it was secretly sizing them up to eat\" myth one more time, I\\'m liable to start throwing punches. There\\'s a ton of photos snakes that have burst from prey items being too big or pointy. I\\'ve taken many a feeding bite, and with the exception of various Kingsnake species, which are essentially one braincell operating a stomach, they\\'ve all let go as soon as they realise I am not infact the rat they can smell', 'Running destroys your knees.', 'That pregnancy is “actually” 10 months long. Learn basic biology and math folks…', '\"God loves you.\" \"God bless you.\"', 'It is what it is.', \"Vote blue no matter who or vote red or you're dead.\", 'Tired of delusional MAGAs claiming that people are FORCING their kids to transition and have transgender operations when that’s just not true. And that’s their main argument against trans people and they couldn’t be more wrong', 'Insanity is doing the same thing over again expecting different results.\\n\\nNo.\\n\\nInsanity is the lack of ability to use and apply logic.', \"People on both sides of the politial spectrum always saying the *other* people are voting against their own interests.\\n\\nLike, how do we really know what the interests of these people are? I mean, they are voting against what we are interested in, but that's not the same thing. We just assume we know what's best for them and they don't and most of us don't even know these folks.\\n\\nWe think it will bring people over to our side but it just sounds cynical or patronizing and does the opposite.\", '100%', \"You're not depressed.  You have more than most people.\", 'If you don\\'t \"forgive\" someone,  you are somehow not over it, or hanging on to it. No, forgiveness means telling the person that they no longer have to feel bad about what they did. Fuck that. They should always feel bad about it. Also,  they never showed any remorse or guilt, nor did they ask for forgiveness. Its like people use the \"be the bigger person\" thing. No, you are being a doormat by letting people get away with treating you poorly.', 'It is what it is 🤮', 'I\\'m convinced that these \"Flat Earthers\" are just bots and/or NPCs', 'That red meat and eggs are bad.\\n\\nWhen your studies are done with McDonald’s cheeseburgers and factory farmed eggs, sure they don’t look great.\\n\\nGrass fed beef and free range eggs are some of the healthiest foods you can eat (and the best sources of protein)', 'So tired of people throwing around the word narcissist without actually understanding anything about NPD.', 'That the State of Israel was created out of \"guilt\" for Jewish People after the Holocaust.\\n\\n(It was not and many Western Nations actually had Arms embargoes on Israel in 1947/48, with the newly formed CIA actually sabotaging some attempts to smuggle American Tanks. The Modern US/Israel relationship didn\\'t start until the 1960s under JFK, and even then it was heavily limited)', 'That emotional stress leads to peptic ulcer.', '\"It\\'s god\\'s will!\"\\n\\nNo. No it\\'s not. There is no god and if there was and he willed all the shit going on in the world, he would be the worst creature imaginable.', 'That vaccines are dangerous, cause autism, etc. I might actually sucker punch the next person who says that to me seriously.', 'As evidenced by the question currently at the top of this page -- people who claim they \"died\" and were brought back. Actual death is a one-way street.  Those people may have experienced a short period of displaying no pulse, or other signs of life, but the fact that they came back, by definition, means they were not dead.', \"That women's clothing doesn't have pockets, and there's some conspiracy or sexist drive against allowing them.\", 'Should of would of could of', \"That you can control diabetes by taking an homeopathic pill made from cinnamon. Fuck you, I've been insulin dependant for thirty+ years. If I took your advice I'd be dead in a month.\", 'If you dont like something just change it. Usually comes from someone wildly spoiled who has never had to do something they didnt entirely want to do. Theres certainly truth to that statement, but no not everyone can just make left and right turns in life and say no to whatever they dont want to do and have zero barriers to what they want to do with instant gratification. Youre gonna have to take a few on the chin in life with an end goal in mind and they just cant wrap their mind around that at all.', 'If you dont like something just change it. Usually comes from someone wildly spoiled who has never had to do something they didnt entirely want to do. Theres certainly truth to that statement, but no not everyone can just make left and right turns in life and say no to whatever they dont want to do and have zero barriers to what they want to do with instant gratification. Youre gonna have to take a few on the chin in life with an end goal in mind and they just cant wrap their mind around that at all.', 'If you dont like something just change it. Usually comes from someone wildly spoiled who has never had to do something they didnt entirely want to do. Theres certainly truth to that statement, but no not everyone can just make left and right turns in life and say no to whatever they dont want to do and have zero barriers to what they want to do with instant gratification. Youre gonna have to take a few on the chin in life with an end goal in mind and they just cant wrap their mind around that at all.', 'If you dont like something just change it. Usually comes from someone wildly spoiled who has never had to do something they didnt entirely want to do. Theres certainly truth to that statement, but no not everyone can just make left and right turns in life and say no to whatever they dont want to do and have zero barriers to what they want to do with instant gratification. Youre gonna have to take a few on the chin in life with an end goal in mind and they just cant wrap their mind around that at all.', 'When unemployed, I got “Don’t worry, it’ll get better. You’re a shoe in” and “yours is coming” Can get a little old\\n\\nHad layoffs, got hired at a place that had just had layoffs, they then had layoffs months later. Applied elsewhere for stability, and the day of my last interview, the ceo announced layoffs. I did get the job and survived those layoffs, but a year later, the company had layoffs. 11 month after that, a job finally came through. But they \\xa0are likely to have layoffs at the end of the year.\\xa0', 'Jesus is king ... Err nope he never existed and never will and the books are full of stolen stories from different older cultures... So,get over it', 'That they love you and they can take a bullet for you. In reality they ran fast when time came😑.', 'trump v bIden/harris\\n\\nIm gonna hit the back button after i make this comment and see one of their faces.', '\"Once a cheater always a cheater\" but their junkie son is gonna change and get clean any day now..😉👍', 'Republicans are fiscally conservative and good for the economy.', \"Reddit leftist views. Because it's an echochamber.\", \"If you don't listen to the old people, you will suffer the consequences.\\n\\ni don't believe this sentence! cuz the old generation would succeed that is denpend on the era and oppotunity.\", 'This fucking question.', 'That donating at a register gives the company a \"tax write-off\"\\n\\nThat\\'s not how taxes work', '“I’m tired” yes, we all are.', 'No I am not going to have sex. And i probably won’t ever, but if I do I know the protection I should have to have safe sex. I know it better than y’all do, I know what to do during it and after to protect myself from any STD/STIs or pregnancy.', 'Someone else would invade Hawaii.\\n\\n\\nKnown of the abuse that Kānaka Maoli went through and continue to experience.\\n\\n\\nA streamer and game developer knows deeply colonialised people.', \"These braindead liberals worship Obomba the same way Maga worship Trump. Different sides of the same cult coin. He's an unrepentant war criminal that bragged about drone striking children and civilians you fucking ghouls. Domestic protestors were literally disappeared to black sites and tortured on his watch. He ushered in state surveillance never before dreamt of by tyranny loving conservatives. He was bought by the big banks before even earning the nomination, and they bought him to continue and expand the Bush Doctrine and you goofy fuckin suckers lapped it up like mothers milk! Every single thing you RIGHTFULLY complain about Trump doing is only precedent because your favorite fucking war criminal Democrat left it on the table for him. Oh and then four years of that fuckin war criminals VP as POTUS left him able to seize the presidency again. MAGA have one thing about liberals correct: you're a bunch of cucks.\\xa0\"]\n"
     ]
    }
   ],
   "source": [
    "# Loop và lưu vào biến comments\n",
    "comments = [comment.body for comment in posts.comments]\n",
    "print(comments)"
   ]
  },
  {
   "cell_type": "code",
   "execution_count": null,
   "id": "f17341b8",
   "metadata": {},
   "outputs": [
    {
     "name": "stdout",
     "output_type": "stream",
     "text": [
      "Đã lưu vào file comments_only.csv\n"
     ]
    }
   ],
   "source": [
    "# Đưa vào DataFrame và lưu ra csv\n",
    "df = pd.DataFrame(comments, columns=[\"comment\"])\n",
    "df.to_csv(\"comments_only.csv\", index=False)\n",
    "\n",
    "print(\"Đã lưu vào file comments_only.csv\")"
   ]
  }
 ],
 "metadata": {
  "kernelspec": {
   "display_name": ".venv",
   "language": "python",
   "name": "python3"
  },
  "language_info": {
   "codemirror_mode": {
    "name": "ipython",
    "version": 3
   },
   "file_extension": ".py",
   "mimetype": "text/x-python",
   "name": "python",
   "nbconvert_exporter": "python",
   "pygments_lexer": "ipython3",
   "version": "3.12.5"
  }
 },
 "nbformat": 4,
 "nbformat_minor": 5
}
